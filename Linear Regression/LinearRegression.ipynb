{
 "cells": [
  {
   "cell_type": "code",
   "execution_count": 66,
   "metadata": {},
   "outputs": [],
   "source": [
    "import numpy as np\n",
    "import pandas as pd\n",
    "import matplotlib.pyplot as plt\n",
    "from sklearn.linear_model import LinearRegression\n",
    "from sklearn.model_selection import train_test_split\n",
    "from sklearn.metrics import mean_squared_error as MSE\n",
    "import matplotlib.pyplot as plt\n",
    "\n",
    "\n",
    "from sklearn.linear_model import Lasso\n",
    "\n",
    "user_ratingRMSE=[]\n",
    "total_starsRMSE=[]\n",
    "user_ratingR2=[]\n",
    "total_starsR2=[]"
   ]
  },
  {
   "cell_type": "code",
   "execution_count": 67,
   "metadata": {},
   "outputs": [],
   "source": [
    "dataframe = pd.read_csv(\"../Preprocessing/preprocessdffixed.csv\")"
   ]
  },
  {
   "cell_type": "code",
   "execution_count": 68,
   "metadata": {},
   "outputs": [
    {
     "data": {
      "text/html": [
       "<div>\n",
       "<style scoped>\n",
       "    .dataframe tbody tr th:only-of-type {\n",
       "        vertical-align: middle;\n",
       "    }\n",
       "\n",
       "    .dataframe tbody tr th {\n",
       "        vertical-align: top;\n",
       "    }\n",
       "\n",
       "    .dataframe thead th {\n",
       "        text-align: right;\n",
       "    }\n",
       "</style>\n",
       "<table border=\"1\" class=\"dataframe\">\n",
       "  <thead>\n",
       "    <tr style=\"text-align: right;\">\n",
       "      <th></th>\n",
       "      <th>User Rating</th>\n",
       "      <th>Review</th>\n",
       "      <th>Price</th>\n",
       "      <th>Year</th>\n",
       "      <th>Genre</th>\n",
       "      <th>Occurences</th>\n",
       "      <th>Total Stars</th>\n",
       "      <th>000</th>\n",
       "      <th>10</th>\n",
       "      <th>100</th>\n",
       "      <th>...</th>\n",
       "      <th>write</th>\n",
       "      <th>year</th>\n",
       "      <th>york</th>\n",
       "      <th>young</th>\n",
       "      <th>zelda</th>\n",
       "      <th>zhi</th>\n",
       "      <th>zinczenko</th>\n",
       "      <th>zone</th>\n",
       "      <th>zoo</th>\n",
       "      <th>zusak</th>\n",
       "    </tr>\n",
       "  </thead>\n",
       "  <tbody>\n",
       "    <tr>\n",
       "      <th>0</th>\n",
       "      <td>0.8750</td>\n",
       "      <td>0.197178</td>\n",
       "      <td>0.067308</td>\n",
       "      <td>0.7</td>\n",
       "      <td>1.0</td>\n",
       "      <td>0.000000</td>\n",
       "      <td>0.193075</td>\n",
       "      <td>0.0</td>\n",
       "      <td>0.914439</td>\n",
       "      <td>0.0</td>\n",
       "      <td>...</td>\n",
       "      <td>0.0</td>\n",
       "      <td>0.0</td>\n",
       "      <td>0.0</td>\n",
       "      <td>0.0</td>\n",
       "      <td>0.0</td>\n",
       "      <td>0.0</td>\n",
       "      <td>0.0</td>\n",
       "      <td>0.0</td>\n",
       "      <td>0.0</td>\n",
       "      <td>0.0</td>\n",
       "    </tr>\n",
       "    <tr>\n",
       "      <th>1</th>\n",
       "      <td>0.8125</td>\n",
       "      <td>0.022949</td>\n",
       "      <td>0.201923</td>\n",
       "      <td>0.2</td>\n",
       "      <td>0.0</td>\n",
       "      <td>0.000000</td>\n",
       "      <td>0.021992</td>\n",
       "      <td>0.0</td>\n",
       "      <td>0.000000</td>\n",
       "      <td>0.0</td>\n",
       "      <td>...</td>\n",
       "      <td>0.0</td>\n",
       "      <td>0.0</td>\n",
       "      <td>0.0</td>\n",
       "      <td>0.0</td>\n",
       "      <td>0.0</td>\n",
       "      <td>0.0</td>\n",
       "      <td>0.0</td>\n",
       "      <td>0.0</td>\n",
       "      <td>0.0</td>\n",
       "      <td>0.0</td>\n",
       "    </tr>\n",
       "    <tr>\n",
       "      <th>2</th>\n",
       "      <td>0.8750</td>\n",
       "      <td>0.215730</td>\n",
       "      <td>0.134615</td>\n",
       "      <td>0.9</td>\n",
       "      <td>1.0</td>\n",
       "      <td>0.000000</td>\n",
       "      <td>0.211241</td>\n",
       "      <td>0.0</td>\n",
       "      <td>0.000000</td>\n",
       "      <td>0.0</td>\n",
       "      <td>...</td>\n",
       "      <td>0.0</td>\n",
       "      <td>0.0</td>\n",
       "      <td>0.0</td>\n",
       "      <td>0.0</td>\n",
       "      <td>0.0</td>\n",
       "      <td>0.0</td>\n",
       "      <td>0.0</td>\n",
       "      <td>0.0</td>\n",
       "      <td>0.0</td>\n",
       "      <td>0.0</td>\n",
       "    </tr>\n",
       "    <tr>\n",
       "      <th>3</th>\n",
       "      <td>0.8750</td>\n",
       "      <td>0.243577</td>\n",
       "      <td>0.048077</td>\n",
       "      <td>0.8</td>\n",
       "      <td>0.0</td>\n",
       "      <td>0.000000</td>\n",
       "      <td>0.238507</td>\n",
       "      <td>0.0</td>\n",
       "      <td>0.000000</td>\n",
       "      <td>0.0</td>\n",
       "      <td>...</td>\n",
       "      <td>0.0</td>\n",
       "      <td>0.0</td>\n",
       "      <td>0.0</td>\n",
       "      <td>0.0</td>\n",
       "      <td>0.0</td>\n",
       "      <td>0.0</td>\n",
       "      <td>0.0</td>\n",
       "      <td>0.0</td>\n",
       "      <td>0.0</td>\n",
       "      <td>0.0</td>\n",
       "    </tr>\n",
       "    <tr>\n",
       "      <th>4</th>\n",
       "      <td>0.9375</td>\n",
       "      <td>0.086875</td>\n",
       "      <td>0.105769</td>\n",
       "      <td>1.0</td>\n",
       "      <td>1.0</td>\n",
       "      <td>0.000000</td>\n",
       "      <td>0.086891</td>\n",
       "      <td>1.0</td>\n",
       "      <td>0.000000</td>\n",
       "      <td>0.0</td>\n",
       "      <td>...</td>\n",
       "      <td>0.0</td>\n",
       "      <td>0.0</td>\n",
       "      <td>0.0</td>\n",
       "      <td>0.0</td>\n",
       "      <td>0.0</td>\n",
       "      <td>0.0</td>\n",
       "      <td>0.0</td>\n",
       "      <td>0.0</td>\n",
       "      <td>0.0</td>\n",
       "      <td>0.0</td>\n",
       "    </tr>\n",
       "    <tr>\n",
       "      <th>...</th>\n",
       "      <td>...</td>\n",
       "      <td>...</td>\n",
       "      <td>...</td>\n",
       "      <td>...</td>\n",
       "      <td>...</td>\n",
       "      <td>...</td>\n",
       "      <td>...</td>\n",
       "      <td>...</td>\n",
       "      <td>...</td>\n",
       "      <td>...</td>\n",
       "      <td>...</td>\n",
       "      <td>...</td>\n",
       "      <td>...</td>\n",
       "      <td>...</td>\n",
       "      <td>...</td>\n",
       "      <td>...</td>\n",
       "      <td>...</td>\n",
       "      <td>...</td>\n",
       "      <td>...</td>\n",
       "      <td>...</td>\n",
       "      <td>...</td>\n",
       "    </tr>\n",
       "    <tr>\n",
       "      <th>342</th>\n",
       "      <td>0.7500</td>\n",
       "      <td>0.122124</td>\n",
       "      <td>0.134615</td>\n",
       "      <td>0.3</td>\n",
       "      <td>0.0</td>\n",
       "      <td>0.000000</td>\n",
       "      <td>0.114481</td>\n",
       "      <td>0.0</td>\n",
       "      <td>0.000000</td>\n",
       "      <td>0.0</td>\n",
       "      <td>...</td>\n",
       "      <td>0.0</td>\n",
       "      <td>0.0</td>\n",
       "      <td>0.0</td>\n",
       "      <td>0.0</td>\n",
       "      <td>0.0</td>\n",
       "      <td>0.0</td>\n",
       "      <td>0.0</td>\n",
       "      <td>0.0</td>\n",
       "      <td>0.0</td>\n",
       "      <td>0.0</td>\n",
       "    </tr>\n",
       "    <tr>\n",
       "      <th>343</th>\n",
       "      <td>0.5625</td>\n",
       "      <td>0.014407</td>\n",
       "      <td>0.096154</td>\n",
       "      <td>0.1</td>\n",
       "      <td>1.0</td>\n",
       "      <td>0.000000</td>\n",
       "      <td>0.012571</td>\n",
       "      <td>0.0</td>\n",
       "      <td>0.000000</td>\n",
       "      <td>0.0</td>\n",
       "      <td>...</td>\n",
       "      <td>0.0</td>\n",
       "      <td>0.0</td>\n",
       "      <td>0.0</td>\n",
       "      <td>0.0</td>\n",
       "      <td>0.0</td>\n",
       "      <td>0.0</td>\n",
       "      <td>0.0</td>\n",
       "      <td>0.0</td>\n",
       "      <td>0.0</td>\n",
       "      <td>0.0</td>\n",
       "    </tr>\n",
       "    <tr>\n",
       "      <th>344</th>\n",
       "      <td>0.9375</td>\n",
       "      <td>0.245866</td>\n",
       "      <td>0.076923</td>\n",
       "      <td>0.4</td>\n",
       "      <td>0.0</td>\n",
       "      <td>0.444444</td>\n",
       "      <td>0.245879</td>\n",
       "      <td>0.0</td>\n",
       "      <td>0.000000</td>\n",
       "      <td>0.0</td>\n",
       "      <td>...</td>\n",
       "      <td>0.0</td>\n",
       "      <td>0.0</td>\n",
       "      <td>0.0</td>\n",
       "      <td>0.0</td>\n",
       "      <td>0.0</td>\n",
       "      <td>0.0</td>\n",
       "      <td>0.0</td>\n",
       "      <td>0.0</td>\n",
       "      <td>0.0</td>\n",
       "      <td>0.0</td>\n",
       "    </tr>\n",
       "    <tr>\n",
       "      <th>345</th>\n",
       "      <td>1.0000</td>\n",
       "      <td>0.106783</td>\n",
       "      <td>0.067308</td>\n",
       "      <td>1.0</td>\n",
       "      <td>0.0</td>\n",
       "      <td>0.000000</td>\n",
       "      <td>0.109032</td>\n",
       "      <td>0.0</td>\n",
       "      <td>0.000000</td>\n",
       "      <td>0.0</td>\n",
       "      <td>...</td>\n",
       "      <td>0.0</td>\n",
       "      <td>0.0</td>\n",
       "      <td>0.0</td>\n",
       "      <td>0.0</td>\n",
       "      <td>0.0</td>\n",
       "      <td>0.0</td>\n",
       "      <td>0.0</td>\n",
       "      <td>0.0</td>\n",
       "      <td>0.0</td>\n",
       "      <td>0.0</td>\n",
       "    </tr>\n",
       "    <tr>\n",
       "      <th>346</th>\n",
       "      <td>0.8750</td>\n",
       "      <td>0.162794</td>\n",
       "      <td>0.067308</td>\n",
       "      <td>0.7</td>\n",
       "      <td>1.0</td>\n",
       "      <td>0.333333</td>\n",
       "      <td>0.159409</td>\n",
       "      <td>0.0</td>\n",
       "      <td>0.000000</td>\n",
       "      <td>0.0</td>\n",
       "      <td>...</td>\n",
       "      <td>0.0</td>\n",
       "      <td>0.0</td>\n",
       "      <td>0.0</td>\n",
       "      <td>0.0</td>\n",
       "      <td>0.0</td>\n",
       "      <td>0.0</td>\n",
       "      <td>0.0</td>\n",
       "      <td>0.0</td>\n",
       "      <td>0.0</td>\n",
       "      <td>0.0</td>\n",
       "    </tr>\n",
       "  </tbody>\n",
       "</table>\n",
       "<p>347 rows × 1391 columns</p>\n",
       "</div>"
      ],
      "text/plain": [
       "     User Rating    Review     Price  Year  Genre  Occurences  Total Stars  \\\n",
       "0         0.8750  0.197178  0.067308   0.7    1.0    0.000000     0.193075   \n",
       "1         0.8125  0.022949  0.201923   0.2    0.0    0.000000     0.021992   \n",
       "2         0.8750  0.215730  0.134615   0.9    1.0    0.000000     0.211241   \n",
       "3         0.8750  0.243577  0.048077   0.8    0.0    0.000000     0.238507   \n",
       "4         0.9375  0.086875  0.105769   1.0    1.0    0.000000     0.086891   \n",
       "..           ...       ...       ...   ...    ...         ...          ...   \n",
       "342       0.7500  0.122124  0.134615   0.3    0.0    0.000000     0.114481   \n",
       "343       0.5625  0.014407  0.096154   0.1    1.0    0.000000     0.012571   \n",
       "344       0.9375  0.245866  0.076923   0.4    0.0    0.444444     0.245879   \n",
       "345       1.0000  0.106783  0.067308   1.0    0.0    0.000000     0.109032   \n",
       "346       0.8750  0.162794  0.067308   0.7    1.0    0.333333     0.159409   \n",
       "\n",
       "     000        10  100  ...  write  year  york  young  zelda  zhi  zinczenko  \\\n",
       "0    0.0  0.914439  0.0  ...    0.0   0.0   0.0    0.0    0.0  0.0        0.0   \n",
       "1    0.0  0.000000  0.0  ...    0.0   0.0   0.0    0.0    0.0  0.0        0.0   \n",
       "2    0.0  0.000000  0.0  ...    0.0   0.0   0.0    0.0    0.0  0.0        0.0   \n",
       "3    0.0  0.000000  0.0  ...    0.0   0.0   0.0    0.0    0.0  0.0        0.0   \n",
       "4    1.0  0.000000  0.0  ...    0.0   0.0   0.0    0.0    0.0  0.0        0.0   \n",
       "..   ...       ...  ...  ...    ...   ...   ...    ...    ...  ...        ...   \n",
       "342  0.0  0.000000  0.0  ...    0.0   0.0   0.0    0.0    0.0  0.0        0.0   \n",
       "343  0.0  0.000000  0.0  ...    0.0   0.0   0.0    0.0    0.0  0.0        0.0   \n",
       "344  0.0  0.000000  0.0  ...    0.0   0.0   0.0    0.0    0.0  0.0        0.0   \n",
       "345  0.0  0.000000  0.0  ...    0.0   0.0   0.0    0.0    0.0  0.0        0.0   \n",
       "346  0.0  0.000000  0.0  ...    0.0   0.0   0.0    0.0    0.0  0.0        0.0   \n",
       "\n",
       "     zone  zoo  zusak  \n",
       "0     0.0  0.0    0.0  \n",
       "1     0.0  0.0    0.0  \n",
       "2     0.0  0.0    0.0  \n",
       "3     0.0  0.0    0.0  \n",
       "4     0.0  0.0    0.0  \n",
       "..    ...  ...    ...  \n",
       "342   0.0  0.0    0.0  \n",
       "343   0.0  0.0    0.0  \n",
       "344   0.0  0.0    0.0  \n",
       "345   0.0  0.0    0.0  \n",
       "346   0.0  0.0    0.0  \n",
       "\n",
       "[347 rows x 1391 columns]"
      ]
     },
     "execution_count": 68,
     "metadata": {},
     "output_type": "execute_result"
    }
   ],
   "source": [
    "dataframe = dataframe.drop(['Unnamed: 0' ], axis=1)\n",
    "dataframe"
   ]
  },
  {
   "cell_type": "code",
   "execution_count": null,
   "metadata": {},
   "outputs": [],
   "source": []
  },
  {
   "cell_type": "code",
   "execution_count": null,
   "metadata": {},
   "outputs": [],
   "source": []
  },
  {
   "cell_type": "code",
   "execution_count": 69,
   "metadata": {},
   "outputs": [
    {
     "name": "stdout",
     "output_type": "stream",
     "text": [
      "<class 'pandas.core.frame.DataFrame'>\n",
      "RangeIndex: 347 entries, 0 to 346\n",
      "Columns: 1391 entries, User Rating to zusak\n",
      "dtypes: float64(1391)\n",
      "memory usage: 3.7 MB\n"
     ]
    },
    {
     "data": {
      "text/plain": [
       "0      0.8750\n",
       "1      0.8125\n",
       "2      0.8750\n",
       "3      0.8750\n",
       "4      0.9375\n",
       "        ...  \n",
       "342    0.7500\n",
       "343    0.5625\n",
       "344    0.9375\n",
       "345    1.0000\n",
       "346    0.8750\n",
       "Name: User Rating, Length: 347, dtype: float64"
      ]
     },
     "execution_count": 69,
     "metadata": {},
     "output_type": "execute_result"
    }
   ],
   "source": [
    "dataframe.info()\n",
    "X_to_split = dataframe.drop('User Rating', axis=1).values\n",
    "y_to_split = dataframe['User Rating']\n",
    "y_to_split"
   ]
  },
  {
   "cell_type": "code",
   "execution_count": 70,
   "metadata": {},
   "outputs": [],
   "source": [
    "X_train, X_test, y_train, y_test \\\n",
    "    = train_test_split(X_to_split, y_to_split)\n"
   ]
  },
  {
   "cell_type": "code",
   "execution_count": 71,
   "metadata": {},
   "outputs": [
    {
     "name": "stdout",
     "output_type": "stream",
     "text": [
      "Results for User Rating target\n",
      "RMSE on the training set:  6.309740391678008e-16\n",
      "R^2 score on training set:  1.0\n",
      "RMSE on the test set:  0.11972828191974981\n",
      "R^2 score on test set:  0.05561862311373267\n"
     ]
    }
   ],
   "source": [
    "LR = LinearRegression()\n",
    "LR.fit(X_train,y_train)\n",
    "y_predict_train = LR.predict(X_train)\n",
    "print('Results for User Rating target')\n",
    "\n",
    "print('RMSE on the training set: ', np.sqrt(MSE(y_predict_train, y_train)))\n",
    "print('R^2 score on training set: ', LR.score(X_train,y_train))\n",
    "\n",
    "y_test_predict = LR.predict(X_test)\n",
    "y_test_predict\n",
    "print('RMSE on the test set: ', np.sqrt(MSE(y_test_predict, y_test)))\n",
    "print('R^2 score on test set: ', LR.score(X_test,y_test))\n",
    "\n",
    "user_ratingRMSE.append(np.sqrt(MSE(y_test_predict, y_test)))             \n",
    "user_ratingR2.append(LR.score(X_test,y_test))\n",
    "\n"
   ]
  },
  {
   "cell_type": "code",
   "execution_count": 72,
   "metadata": {},
   "outputs": [
    {
     "name": "stdout",
     "output_type": "stream",
     "text": [
      "Results for User Rating target\n",
      "RMSE on the training set:  0.10275409629852032\n",
      "R^2 score on training set:  0.5143331590752129\n",
      "RMSE on the test set:  0.11715251152876123\n",
      "R^2 score on test set:  0.0958153701636536\n"
     ]
    }
   ],
   "source": [
    "#Lasso Regression\n",
    "\n",
    "las = Lasso(alpha=.001)\n",
    "las.fit(X_train, y_train)\n",
    "\n",
    "y_predict_train = las.predict(X_train)\n",
    "print('Results for User Rating target')\n",
    "\n",
    "print('RMSE on the training set: ', np.sqrt(MSE(y_predict_train, y_train)))\n",
    "print('R^2 score on training set: ', las.score(X_train,y_train))\n",
    "\n",
    "y_test_predict = las.predict(X_test)\n",
    "y_test_predict\n",
    "print('RMSE on the test set: ', np.sqrt(MSE(y_test_predict, y_test)))\n",
    "print('R^2 score on test set: ', las.score(X_test,y_test))\n",
    "\n",
    "user_ratingRMSE.append(np.sqrt(MSE(y_test_predict, y_test)))              \n",
    "user_ratingR2.append(las.score(X_test,y_test))\n"
   ]
  },
  {
   "cell_type": "code",
   "execution_count": 73,
   "metadata": {},
   "outputs": [
    {
     "name": "stdout",
     "output_type": "stream",
     "text": [
      "<class 'pandas.core.frame.DataFrame'>\n",
      "RangeIndex: 347 entries, 0 to 346\n",
      "Columns: 1391 entries, User Rating to zusak\n",
      "dtypes: float64(1391)\n",
      "memory usage: 3.7 MB\n"
     ]
    },
    {
     "data": {
      "text/plain": [
       "0      0.193075\n",
       "1      0.021992\n",
       "2      0.211241\n",
       "3      0.238507\n",
       "4      0.086891\n",
       "         ...   \n",
       "342    0.114481\n",
       "343    0.012571\n",
       "344    0.245879\n",
       "345    0.109032\n",
       "346    0.159409\n",
       "Name: Total Stars, Length: 347, dtype: float64"
      ]
     },
     "execution_count": 73,
     "metadata": {},
     "output_type": "execute_result"
    }
   ],
   "source": [
    "dataframe.info()\n",
    "X_to_split = dataframe.drop('Total Stars', axis=1).values\n",
    "y_to_split = dataframe['Total Stars']\n",
    "y_to_split"
   ]
  },
  {
   "cell_type": "code",
   "execution_count": 74,
   "metadata": {},
   "outputs": [],
   "source": [
    "X_train, X_test, y_train, y_test \\\n",
    "    = train_test_split(X_to_split, y_to_split)\n"
   ]
  },
  {
   "cell_type": "code",
   "execution_count": 75,
   "metadata": {},
   "outputs": [
    {
     "name": "stdout",
     "output_type": "stream",
     "text": [
      "Results for Total Stars target\n",
      "RMSE on the training set:  4.533970327581221e-16\n",
      "R^2 score on training set:  1.0\n",
      "RMSE on the test set:  0.059383507310479665\n",
      "R^2 score on test set:  0.8336769704397591\n"
     ]
    }
   ],
   "source": [
    "LR = LinearRegression()\n",
    "LR.fit(X_train,y_train)\n",
    "y_predict_train = LR.predict(X_train)\n",
    "print('Results for Total Stars target')\n",
    "print('RMSE on the training set: ', np.sqrt(MSE(y_predict_train, y_train)))\n",
    "print('R^2 score on training set: ', LR.score(X_train,y_train))\n",
    "\n",
    "y_test_predict = LR.predict(X_test)\n",
    "y_test_predict\n",
    "print('RMSE on the test set: ', np.sqrt(MSE(y_test_predict, y_test)))\n",
    "print('R^2 score on test set: ', LR.score(X_test,y_test))\n",
    "total_starsRMSE.append(np.sqrt(MSE(y_test_predict, y_test)))\n",
    "                       \n",
    "total_starsR2.append(LR.score(X_test,y_test))\n"
   ]
  },
  {
   "cell_type": "code",
   "execution_count": 76,
   "metadata": {},
   "outputs": [],
   "source": [
    "# Lasso Regression"
   ]
  },
  {
   "cell_type": "code",
   "execution_count": 95,
   "metadata": {},
   "outputs": [
    {
     "data": {
      "text/plain": [
       "Lasso(alpha=0.0001)"
      ]
     },
     "execution_count": 95,
     "metadata": {},
     "output_type": "execute_result"
    }
   ],
   "source": [
    "las = Lasso(alpha=.0001)\n",
    "las.fit(X_train, y_train)"
   ]
  },
  {
   "cell_type": "code",
   "execution_count": 96,
   "metadata": {},
   "outputs": [
    {
     "name": "stdout",
     "output_type": "stream",
     "text": [
      "Results for Total Stars target\n",
      "RMSE on the training set:  0.006429366004956142\n",
      "R^2 score on training set:  0.9963148985424308\n",
      "RMSE on the test set:  0.01015086723471242\n",
      "R^2 score on test set:  0.9951401037994316\n"
     ]
    }
   ],
   "source": [
    "y_predict_train = las.predict(X_train)\n",
    "print('Results for Total Stars target')\n",
    "\n",
    "print('RMSE on the training set: ', np.sqrt(MSE(y_predict_train, y_train)))\n",
    "print('R^2 score on training set: ', las.score(X_train,y_train))\n",
    "\n",
    "y_test_predict = las.predict(X_test)\n",
    "y_test_predict\n",
    "print('RMSE on the test set: ', np.sqrt(MSE(y_test_predict, y_test)))\n",
    "print('R^2 score on test set: ', las.score(X_test,y_test))\n",
    "total_starsRMSE.append(np.sqrt(MSE(y_test_predict, y_test)))\n",
    "                       \n",
    "total_starsR2.append(las.score(X_test,y_test))"
   ]
  },
  {
   "cell_type": "code",
   "execution_count": null,
   "metadata": {},
   "outputs": [],
   "source": []
  },
  {
   "cell_type": "code",
   "execution_count": 79,
   "metadata": {},
   "outputs": [
    {
     "data": {
      "image/png": "[encoded data removed]",
      "text/plain": [
       "<Figure size 432x288 with 1 Axes>"
      ]
     },
     "metadata": {},
     "output_type": "display_data"
    }
   ],
   "source": [
    "\n",
    "%matplotlib inline\n",
    "plt.style.use('ggplot')\n",
    "\n",
    "x = ['Linear Regression', 'Lasso Regression']\n",
    "\n",
    "x_pos = [i for i, _ in enumerate(x)]\n",
    "\n",
    "plt.bar(x_pos, total_starsRMSE, color='green')\n",
    "plt.xlabel(\"Regressor\")\n",
    "plt.ylabel(\"RMSE\")\n",
    "plt.title(\"Total Stars RMSE\")\n",
    "\n",
    "plt.xticks(x_pos, x)\n",
    "\n",
    "plt.show()\n",
    "\n",
    "# note that Lasso has lower RMSE                       \n"
   ]
  },
  {
   "cell_type": "code",
   "execution_count": 80,
   "metadata": {},
   "outputs": [
    {
     "data": {
      "image/png": "[encoded data removed]",
      "text/plain": [
       "<Figure size 432x288 with 1 Axes>"
      ]
     },
     "metadata": {},
     "output_type": "display_data"
    }
   ],
   "source": [
    "\n",
    "%matplotlib inline\n",
    "plt.style.use('ggplot')\n",
    "\n",
    "x = ['Linear Regression', 'Lasso Regression']\n",
    "\n",
    "x_pos = [i for i, _ in enumerate(x)]\n",
    "\n",
    "plt.bar(x_pos, total_starsR2, color='green')\n",
    "plt.xlabel(\"Regressor\")\n",
    "plt.ylabel(\"R^2\")\n",
    "plt.title(\"Total Stars R^2\")\n",
    "\n",
    "plt.xticks(x_pos, x)\n",
    "\n",
    "plt.show()\n",
    "\n",
    "                       \n",
    "# note that Lasso has higher R^2 score"
   ]
  },
  {
   "cell_type": "code",
   "execution_count": 81,
   "metadata": {},
   "outputs": [
    {
     "data": {
      "image/png": "[encoded data removed]",
      "text/plain": [
       "<Figure size 432x288 with 1 Axes>"
      ]
     },
     "metadata": {},
     "output_type": "display_data"
    }
   ],
   "source": [
    "\n",
    "%matplotlib inline\n",
    "plt.style.use('ggplot')\n",
    "\n",
    "x = ['Linear Regression', 'Lasso Regression']\n",
    "\n",
    "x_pos = [i for i, _ in enumerate(x)]\n",
    "\n",
    "plt.bar(x_pos, user_ratingRMSE, color='green')\n",
    "plt.xlabel(\"Regressor\")\n",
    "plt.ylabel(\"RMSE\")\n",
    "plt.title(\"User Rating RMSE\")\n",
    "\n",
    "plt.xticks(x_pos, x)\n",
    "\n",
    "plt.show()\n",
    "\n",
    "# note that lasso has a lower RMSE\n",
    "                       \n"
   ]
  },
  {
   "cell_type": "code",
   "execution_count": 82,
   "metadata": {},
   "outputs": [
    {
     "data": {
      "image/png": "[encoded data removed]",
      "text/plain": [
       "<Figure size 432x288 with 1 Axes>"
      ]
     },
     "metadata": {},
     "output_type": "display_data"
    }
   ],
   "source": [
    "\n",
    "%matplotlib inline\n",
    "plt.style.use('ggplot')\n",
    "\n",
    "x = ['Linear Regression', 'Lasso Regression']\n",
    "\n",
    "x_pos = [i for i, _ in enumerate(x)]\n",
    "\n",
    "plt.bar(x_pos, user_ratingR2, color='green')\n",
    "plt.xlabel(\"Regressor\")\n",
    "plt.ylabel(\"R^2\")\n",
    "plt.title(\"User Rating R^2\")\n",
    "plt.xticks(x_pos, x)\n",
    "\n",
    "plt.show()\n",
    "\n",
    "                       \n"
   ]
  },
  {
   "cell_type": "code",
   "execution_count": null,
   "metadata": {},
   "outputs": [],
   "source": []
  },
  {
   "cell_type": "code",
   "execution_count": null,
   "metadata": {},
   "outputs": [],
   "source": []
  },
  {
   "cell_type": "code",
   "execution_count": null,
   "metadata": {},
   "outputs": [],
   "source": []
  },
  {
   "cell_type": "code",
   "execution_count": null,
   "metadata": {},
   "outputs": [],
   "source": []
  },
  {
   "cell_type": "code",
   "execution_count": null,
   "metadata": {},
   "outputs": [],
   "source": []
  }
 ],
 "metadata": {
  "kernelspec": {
   "display_name": "Python 3",
   "language": "python",
   "name": "python3"
  },
  "language_info": {
   "codemirror_mode": {
    "name": "ipython",
    "version": 3
   },
   "file_extension": ".py",
   "mimetype": "text/x-python",
   "name": "python",
   "nbconvert_exporter": "python",
   "pygments_lexer": "ipython3",
   "version": "3.8.3"
  }
 },
 "nbformat": 4,
 "nbformat_minor": 2
}
